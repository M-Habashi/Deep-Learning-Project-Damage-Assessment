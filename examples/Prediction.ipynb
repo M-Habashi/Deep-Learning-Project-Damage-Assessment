{
 "cells": [
  {
   "cell_type": "code",
   "execution_count": 1,
   "id": "9642c569",
   "metadata": {},
   "outputs": [],
   "source": [
    "import os.path\n",
    "import sys\n",
    "import cv2\n",
    "import torch\n",
    "import numpy as np\n",
    "import matplotlib.pyplot as plt\n",
    "\n",
    "from imageio import imsave\n",
    "from torch.utils import model_zoo\n",
    "\n",
    "module_path = os.path.abspath(os.path.join('../'))\n",
    "if module_path not in sys.path:\n",
    "    sys.path.append(module_path)\n",
    "\n",
    "from building_footprint_segmentation.seg.binary.models import ReFineNet\n",
    "from building_footprint_segmentation.helpers.normalizer import min_max_image_net\n",
    "from building_footprint_segmentation.utils.py_network import (\n",
    "    to_input_image_tensor,\n",
    "    add_extra_dimension,\n",
    "    convert_tensor_to_numpy,\n",
    "    load_parallel_model,\n",
    "    adjust_model,\n",
    ")\n",
    "from building_footprint_segmentation.utils.operations import handle_image_size"
   ]
  },
  {
   "cell_type": "code",
   "execution_count": 3,
   "id": "3ab1e3d3",
   "metadata": {},
   "outputs": [
    {
     "name": "stdout",
     "output_type": "stream",
     "text": [
      "path/to/input_image.png\n"
     ]
    }
   ],
   "source": [
    "MAX_SIZE = 384\n",
    "TRAINED_MODEL = ReFineNet()\n",
    "MODEL_URL = \"https://github.com/fuzailpalnak/building-footprint-segmentation/releases/download/alpha/refine.zip\"\n",
    "\n",
    "PRED_PTH = r\"path/to/input_image.png\"\n",
    "\n",
    "print(PRED_PTH)"
   ]
  },
  {
   "cell_type": "code",
   "execution_count": 4,
   "id": "dc4296e5",
   "metadata": {},
   "outputs": [],
   "source": [
    "def set_model_weights():\n",
    "    state_dict = model_zoo.load_url(MODEL_URL, progress=True, map_location=\"cpu\")\n",
    "    if \"model\" in state_dict:\n",
    "        state_dict = state_dict[\"model\"]\n",
    "    TRAINED_MODEL.load_state_dict(adjust_model(state_dict))\n",
    "\n",
    "\n",
    "def extract(original_image):\n",
    "    original_height, original_width = original_image.shape[:2]\n",
    "\n",
    "    if (original_height, original_width) != (MAX_SIZE, MAX_SIZE):\n",
    "        original_image = handle_image_size(original_image, (MAX_SIZE, MAX_SIZE))\n",
    "\n",
    "    # Apply Normalization\n",
    "    normalized_image = min_max_image_net(img=original_image)\n",
    "\n",
    "    tensor_image = add_extra_dimension(to_input_image_tensor(normalized_image))\n",
    "\n",
    "    with torch.no_grad():\n",
    "        # Perform prediction\n",
    "        prediction = TRAINED_MODEL(tensor_image)\n",
    "        prediction = prediction.sigmoid()\n",
    "\n",
    "    prediction_binary = convert_tensor_to_numpy(prediction[0]).reshape(\n",
    "        (MAX_SIZE, MAX_SIZE)\n",
    "    )\n",
    "\n",
    "    prediction_3_channels = cv2.cvtColor(prediction_binary, cv2.COLOR_GRAY2RGB)\n",
    "\n",
    "    dst = cv2.addWeighted(\n",
    "        original_image,\n",
    "        1,\n",
    "        (prediction_3_channels * (0, 255, 0)).astype(np.uint8),\n",
    "        0.4,\n",
    "        0,\n",
    "    )\n",
    "    return prediction_binary, prediction_3_channels, dst\n"
   ]
  },
  {
   "cell_type": "code",
   "execution_count": 5,
   "id": "06a78a29",
   "metadata": {},
   "outputs": [],
   "source": [
    "def run(image_path):\n",
    "    original_image = cv2.imread(image_path)\n",
    "    original_image = cv2.cvtColor(original_image, cv2.COLOR_BGR2RGB)\n",
    "\n",
    "    set_model_weights()\n",
    "    # PARALLELIZE the model if gpu available\n",
    "    # model = load_parallel_model(model)\n",
    "\n",
    "    prediction_binary, prediction_3_channels, dst = extract(original_image)\n",
    "    # imsave(f\"{os.path.basename(image_path)}\", prediction_binary)\n",
    "    return prediction_binary, prediction_3_channels, dst"
   ]
  },
  {
   "cell_type": "code",
   "execution_count": 6,
   "id": "8d090485",
   "metadata": {},
   "outputs": [
    {
     "ename": "error",
     "evalue": "OpenCV(4.6.0) D:\\bld\\libopencv_1657598186226\\work\\modules\\imgproc\\src\\color.cpp:182: error: (-215:Assertion failed) !_src.empty() in function 'cv::cvtColor'\n",
     "output_type": "error",
     "traceback": [
      "\u001b[1;31m---------------------------------------------------------------------------\u001b[0m",
      "\u001b[1;31merror\u001b[0m                                     Traceback (most recent call last)",
      "Cell \u001b[1;32mIn[6], line 1\u001b[0m\n\u001b[1;32m----> 1\u001b[0m pred \u001b[38;5;241m=\u001b[39m \u001b[43mrun\u001b[49m\u001b[43m(\u001b[49m\u001b[43mPRED_PTH\u001b[49m\u001b[43m)\u001b[49m\n\u001b[0;32m      3\u001b[0m fig,ax \u001b[38;5;241m=\u001b[39m plt\u001b[38;5;241m.\u001b[39msubplots(\u001b[38;5;241m1\u001b[39m,\u001b[38;5;241m3\u001b[39m,figsize \u001b[38;5;241m=\u001b[39m (\u001b[38;5;241m15\u001b[39m,\u001b[38;5;241m15\u001b[39m))\n\u001b[0;32m      4\u001b[0m ax \u001b[38;5;241m=\u001b[39m ax\u001b[38;5;241m.\u001b[39mravel()\n",
      "Cell \u001b[1;32mIn[5], line 3\u001b[0m, in \u001b[0;36mrun\u001b[1;34m(image_path)\u001b[0m\n\u001b[0;32m      1\u001b[0m \u001b[38;5;28;01mdef\u001b[39;00m \u001b[38;5;21mrun\u001b[39m(image_path):\n\u001b[0;32m      2\u001b[0m     original_image \u001b[38;5;241m=\u001b[39m cv2\u001b[38;5;241m.\u001b[39mimread(image_path)\n\u001b[1;32m----> 3\u001b[0m     original_image \u001b[38;5;241m=\u001b[39m \u001b[43mcv2\u001b[49m\u001b[38;5;241;43m.\u001b[39;49m\u001b[43mcvtColor\u001b[49m\u001b[43m(\u001b[49m\u001b[43moriginal_image\u001b[49m\u001b[43m,\u001b[49m\u001b[43m \u001b[49m\u001b[43mcv2\u001b[49m\u001b[38;5;241;43m.\u001b[39;49m\u001b[43mCOLOR_BGR2RGB\u001b[49m\u001b[43m)\u001b[49m\n\u001b[0;32m      5\u001b[0m     set_model_weights()\n\u001b[0;32m      6\u001b[0m     \u001b[38;5;66;03m# PARALLELIZE the model if gpu available\u001b[39;00m\n\u001b[0;32m      7\u001b[0m     \u001b[38;5;66;03m# model = load_parallel_model(model)\u001b[39;00m\n",
      "\u001b[1;31merror\u001b[0m: OpenCV(4.6.0) D:\\bld\\libopencv_1657598186226\\work\\modules\\imgproc\\src\\color.cpp:182: error: (-215:Assertion failed) !_src.empty() in function 'cv::cvtColor'\n"
     ]
    }
   ],
   "source": [
    "pred = run(PRED_PTH)\n",
    "\n",
    "fig,ax = plt.subplots(1,3,figsize = (15,15))\n",
    "ax = ax.ravel()\n",
    "for i in range(3):\n",
    "  image = pred[i]\n",
    "  ax[i].imshow(image)  \n",
    "plt.show()"
   ]
  },
  {
   "cell_type": "code",
   "execution_count": null,
   "id": "e4e9b849",
   "metadata": {},
   "outputs": [],
   "source": []
  }
 ],
 "metadata": {
  "kernelspec": {
   "display_name": "Python 3 (ipykernel)",
   "language": "python",
   "name": "python3"
  },
  "language_info": {
   "codemirror_mode": {
    "name": "ipython",
    "version": 3
   },
   "file_extension": ".py",
   "mimetype": "text/x-python",
   "name": "python",
   "nbconvert_exporter": "python",
   "pygments_lexer": "ipython3",
   "version": "3.9.16"
  }
 },
 "nbformat": 4,
 "nbformat_minor": 5
}
